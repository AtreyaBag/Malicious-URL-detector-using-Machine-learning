{
  "nbformat": 4,
  "nbformat_minor": 0,
  "metadata": {
    "colab": {
      "name": "Workbook (complete): Spam Filter (Sklearn).ipynb",
      "version": "0.3.2",
      "provenance": [],
      "collapsed_sections": [
        "SwawBDPuhgUP",
        "mxS4n9Gfyvw2",
        "VjMomkNIzsJd",
        "dPtTuWPDhy_Y",
        "Z_8CHFksox52",
        "2h_fentliZuA",
        "DL4NOtrUo3uL",
        "XLErmbFUo7Ho",
        "q4PmEWehhCDo",
        "nuZgNrloo_fO",
        "9jQBLgmRpC8U",
        "ZvVbfkz_pEzR",
        "TeE--QtjjhIV",
        "rs1JQc4EpHtx",
        "DWuPQzK1pJ9j",
        "UyiNCVFlloOL",
        "ThtKcNrGpMhk",
        "xPsNl19upOyB",
        "teRzp5LDpR1H",
        "ytP1MukVpTs3",
        "P--bMk8SpWa2"
      ]
    },
    "kernelspec": {
      "name": "python3",
      "display_name": "Python 3"
    }
  },
  "cells": [
    {
      "cell_type": "markdown",
      "metadata": {
        "id": "SwawBDPuhgUP",
        "colab_type": "text"
      },
      "source": [
        "# Machine Learning for Security Analysts - Workbook </br> Spam Filter (Scikit-learn)\n",
        "\n",
        "---\n",
        "\n",
        "\n",
        "Author: GTKlondike\n",
        "</br>\n",
        "Email: GTKlondike@gmail.com\n",
        "</br>\n",
        "YouTube: [NetSec Explained](https://www.youtube.com/channel/UCsKK7UIiYqvK35aWrCCgUUA)\n",
        "\n",
        "**Dataset:** https://github.com/NetsecExplained/Machine-Learning-for-Security-Analysts\n",
        "\n",
        "**Goal:** This workbook will walk you through the steps to build, train, test, and evaluate a series of spam classifiers using the Scikit-learn machine learning library\n",
        "\n",
        "**Outline:** \n",
        "* Initial Setup\n",
        "* Tokenization\n",
        "* Load Training Data\n",
        "* Vectorize Training Data\n",
        "* Load Testing Data\n",
        "* Train and Evaluate Models\n"
      ]
    },
    {
      "cell_type": "markdown",
      "metadata": {
        "id": "mxS4n9Gfyvw2",
        "colab_type": "text"
      },
      "source": [
        "## Instructions\n",
        "To use Jupyter notebooks:\n",
        "* To run a cell, click on the play button to the left of the code or pressh shift+enter\n",
        "* You will see a busy indicator in the top left area while the runtime is executing\n",
        "* A number will appear when the cell is done\n",
        "\n",
        "To complete the workbook:\n",
        "* Step through the workbook, completing the tasks in order"
      ]
    },
    {
      "cell_type": "markdown",
      "metadata": {
        "id": "VjMomkNIzsJd",
        "colab_type": "text"
      },
      "source": [
        "# Initial Setup\n",
        "We'll start by downloading the data and loading the needed libraries."
      ]
    },
    {
      "cell_type": "code",
      "metadata": {
        "id": "YM57dpKHMi8z",
        "colab_type": "code",
        "outputId": "4f794f46-5f09-46ab-93a8-e33e5fe16cac",
        "colab": {
          "base_uri": "https://localhost:8080/",
          "height": 34
        }
      },
      "source": [
        "# Download data from Github\n",
        "! git clone https://github.com/NetsecExplained/Machine-Learning-for-Security-Analysts.git\n",
        "  \n",
        "# Install dependencies\n",
        "! pip install nltk sklearn pandas matplotlib seaborn\n",
        "data_dir = \"Machine-Learning-for-Security-Analysts\""
      ],
      "execution_count": 0,
      "outputs": [
        {
          "output_type": "stream",
          "text": [
            "fatal: destination path 'Machine-Learning-for-Security-Analysts' already exists and is not an empty directory.\n"
          ],
          "name": "stdout"
        }
      ]
    },
    {
      "cell_type": "code",
      "metadata": {
        "id": "_6QcEtvzX-E9",
        "colab_type": "code",
        "outputId": "726d56f9-cb1f-4e9f-f2c4-99659ef62293",
        "colab": {
          "base_uri": "https://localhost:8080/",
          "height": 136
        }
      },
      "source": [
        "# Common imports\n",
        "import re, os, math, string, json\n",
        "import pandas as pd\n",
        "import numpy as np\n",
        "import matplotlib.pyplot as plt\n",
        "import random\n",
        "import re\n",
        "\n",
        "%matplotlib inline\n",
        "\n",
        "# Import Natural Language ToolKit library and download dictionaries\n",
        "import nltk\n",
        "nltk.download('stopwords')\n",
        "nltk.download('punkt')\n",
        "\n",
        "\n",
        "# Import Scikit-learn helper functions\n",
        "from sklearn.model_selection import train_test_split\n",
        "from sklearn.feature_extraction.text import TfidfVectorizer, CountVectorizer\n",
        "\n",
        "\n",
        "# Import Scikit-learn models\n",
        "from sklearn.linear_model import LogisticRegression\n",
        "from sklearn.naive_bayes import MultinomialNB\n",
        "\n",
        "\n",
        "# Import Scikit-learn metric functions\n",
        "from sklearn.metrics import confusion_matrix, classification_report\n",
        "import seaborn as sns\n",
        "\n",
        "\n",
        "\n",
        "print(\"\\n### Libraries Imported ###\\n\")"
      ],
      "execution_count": 0,
      "outputs": [
        {
          "output_type": "stream",
          "text": [
            "[nltk_data] Downloading package stopwords to /root/nltk_data...\n",
            "[nltk_data]   Package stopwords is already up-to-date!\n",
            "[nltk_data] Downloading package punkt to /root/nltk_data...\n",
            "[nltk_data]   Package punkt is already up-to-date!\n",
            "\n",
            "### Libraries Imported ###\n",
            "\n"
          ],
          "name": "stdout"
        }
      ]
    },
    {
      "cell_type": "code",
      "metadata": {
        "id": "lhkR4nMLMmRT",
        "colab_type": "code",
        "outputId": "6bc75190-fdda-412f-f1a3-2eda8a1922d0",
        "colab": {
          "base_uri": "https://localhost:8080/",
          "height": 136
        }
      },
      "source": [
        "# Test email from lecture slides\n",
        "test_email = \"\"\"\n",
        "Re: Re: East Asian fonts in Lenny. Thanks for your support.  Installing unifonts did it well for me. ;)\n",
        "Nima\n",
        "--\n",
        "To UNSUBSCRIBE, email to debian-user-REQUEST@lists.debian.org\n",
        "with a subject of \"unsubscribe\". Trouble? Contact listmaster@lists.debian.org\n",
        "\"\"\"\n",
        "print(test_email)"
      ],
      "execution_count": 0,
      "outputs": [
        {
          "output_type": "stream",
          "text": [
            "\n",
            "Re: Re: East Asian fonts in Lenny. Thanks for your support.  Installing unifonts did it well for me. ;)\n",
            "Nima\n",
            "--\n",
            "To UNSUBSCRIBE, email to debian-user-REQUEST@lists.debian.org\n",
            "with a subject of \"unsubscribe\". Trouble? Contact listmaster@lists.debian.org\n",
            "\n"
          ],
          "name": "stdout"
        }
      ]
    },
    {
      "cell_type": "markdown",
      "metadata": {
        "id": "dPtTuWPDhy_Y",
        "colab_type": "text"
      },
      "source": [
        "# Tokenization\n",
        "Continuing from where we left off with the slides, we'll start by creating our tokenizer."
      ]
    },
    {
      "cell_type": "code",
      "metadata": {
        "id": "qJKg9PaNMnA3",
        "colab_type": "code",
        "outputId": "8427340b-7578-4023-dba5-f8645b72ffa3",
        "colab": {
          "base_uri": "https://localhost:8080/",
          "height": 68
        }
      },
      "source": [
        "# Define tokenizer\n",
        "#   The purpose of a tokenizer is to separate the features from the raw data\n",
        "\n",
        "def tokenizer(text):\n",
        "  \"\"\"Separates feature words from the raw data\n",
        "  Keyword arguments:\n",
        "    text ---- The full email body\n",
        "    \n",
        "  :Returns -- The tokenized words; returned as a list\n",
        "  \"\"\"\n",
        "  \n",
        "  # Retrieve a list of punctuation characters, a list of stopwords, and a stemmer function\n",
        "  punctuations = list(string.punctuation)\n",
        "  stopwords = nltk.corpus.stopwords.words('english')\n",
        "  stemmer = nltk.stem.PorterStemmer()\n",
        "  \n",
        "  \n",
        "  # Set email body to lowercase, separate words and strip out punctuation\n",
        "  tokens = nltk.word_tokenize(text.lower())\n",
        "  tokens = [i.strip(''.join(punctuations)) \n",
        "            for i in tokens \n",
        "            if i not in punctuations]\n",
        "  \n",
        "  \n",
        "  # User Porter Stemmer on each token\n",
        "  tokens = [stemmer.stem(i)\n",
        "            for i in tokens]\n",
        "  return [w for w in tokens if w not in stopwords and w != \"\"]\n",
        "\n",
        "print(\"\\n### Tokenizer defined ###\\n\")"
      ],
      "execution_count": 0,
      "outputs": [
        {
          "output_type": "stream",
          "text": [
            "\n",
            "### Tokenizer defined ###\n",
            "\n"
          ],
          "name": "stdout"
        }
      ]
    },
    {
      "cell_type": "markdown",
      "metadata": {
        "id": "Z_8CHFksox52",
        "colab_type": "text"
      },
      "source": [
        "## Task 1 - Tokenize an email\n",
        "1. Print the full email, **test_email**\n",
        "2. Print the results of **tokenizer(test_email)**"
      ]
    },
    {
      "cell_type": "code",
      "metadata": {
        "id": "dGV5z4DRPHG-",
        "colab_type": "code",
        "outputId": "fca6e1b6-a99e-4a54-baea-f0bf9737d37c",
        "colab": {
          "base_uri": "https://localhost:8080/",
          "height": 275
        }
      },
      "source": [
        "# Let's see how our tokenizer changes our email\n",
        "print(\"\\n- Test Email Body -\\n\")\n",
        "print(test_email)\n",
        "\n",
        "# Tokenize test email\n",
        "print(\"\\n - Tokenized Output -\\n\")\n",
        "tokenized_email = tokenizer(test_email)\n",
        "print(tokenized_email)"
      ],
      "execution_count": 0,
      "outputs": [
        {
          "output_type": "stream",
          "text": [
            "\n",
            "- Test Email Body -\n",
            "\n",
            "\n",
            "Re: Re: East Asian fonts in Lenny. Thanks for your support.  Installing unifonts did it well for me. ;)\n",
            "Nima\n",
            "--\n",
            "To UNSUBSCRIBE, email to debian-user-REQUEST@lists.debian.org\n",
            "with a subject of \"unsubscribe\". Trouble? Contact listmaster@lists.debian.org\n",
            "\n",
            "\n",
            " - Tokenized Output -\n",
            "\n",
            "['east', 'asian', 'font', 'lenni', 'thank', 'support', 'instal', 'unifont', 'well', 'nima', 'unsubscrib', 'email', 'debian-user-request', 'lists.debian.org', 'subject', 'unsubscrib', 'troubl', 'contact', 'listmast', 'lists.debian.org']\n"
          ],
          "name": "stdout"
        }
      ]
    },
    {
      "cell_type": "markdown",
      "metadata": {
        "id": "2h_fentliZuA",
        "colab_type": "text"
      },
      "source": [
        "# Load Training Data\n",
        "With our tokenizer defined, let's take a look at our training data."
      ]
    },
    {
      "cell_type": "code",
      "metadata": {
        "id": "UT3pENI0iuMS",
        "colab_type": "code",
        "outputId": "4de6aa38-6259-47a1-81d0-33b8bf683ed5",
        "colab": {
          "base_uri": "https://localhost:8080/",
          "height": 68
        }
      },
      "source": [
        "# Get counts of each class\n",
        "ham_count = len(os.listdir(data_dir+\"/ham\"))\n",
        "spam_count = len(os.listdir(data_dir+\"/spam\"))\n",
        "test_count = len(os.listdir(data_dir+\"/test\"))\n",
        "print(\"\\n### Class Counting Complete ###\\n\")"
      ],
      "execution_count": 0,
      "outputs": [
        {
          "output_type": "stream",
          "text": [
            "\n",
            "### Class Counting Complete ###\n",
            "\n"
          ],
          "name": "stdout"
        }
      ]
    },
    {
      "cell_type": "markdown",
      "metadata": {
        "id": "DL4NOtrUo3uL",
        "colab_type": "text"
      },
      "source": [
        "## Task 2 - Load training data\n",
        "1. Create two *list()* arrays: **corpus** and **labels**\n",
        "2. Load the email bodies from from the **/ham** and **/spam** directories into the *corpus* array\n",
        "3. Load the labels for each email into the *labels* array\n",
        "\n",
        "\\* The lengths of *corpus* and *labels* should be identical"
      ]
    },
    {
      "cell_type": "code",
      "metadata": {
        "id": "tD1gB8EUMn6Q",
        "colab_type": "code",
        "outputId": "10b19df0-c36e-43cf-cfaf-c0e206369fc5",
        "colab": {
          "base_uri": "https://localhost:8080/",
          "height": 102
        }
      },
      "source": [
        "# Load the training data\n",
        "#   \"corpus\" is used to store all of the email bodies in a list\n",
        "#   \"labels\" is used to store all of the labes for those email bodies\n",
        "\n",
        "corpus = []   # X values\n",
        "labels = []   # Y values\n",
        "\n",
        "# Load all of the emails from the \"ham\" directory\n",
        "print(\"- Loading Ham -\")\n",
        "\n",
        "for each in os.listdir(data_dir + '/ham'):\n",
        "  with open(data_dir + '/ham/' + each, 'r') as f:\n",
        "    corpus.append(f.read())\n",
        "    labels.append(\"ham\")\n",
        "          \n",
        "\n",
        "# Load all of the emails from the \"spam\" directory\n",
        "print(\"- Loading Spam -\")\n",
        "\n",
        "for each in os.listdir(data_dir + '/spam'):\n",
        "  with open(data_dir + '/spam/'+each, 'r') as f:\n",
        "    corpus.append(f.read())\n",
        "    labels.append(\"spam\")\n",
        "    \n",
        "    \n",
        "print(\"\\n### Loading Complete ###\\n\")"
      ],
      "execution_count": 0,
      "outputs": [
        {
          "output_type": "stream",
          "text": [
            "- Loading Ham -\n",
            "- Loading Spam -\n",
            "\n",
            "### Loading Complete ###\n",
            "\n"
          ],
          "name": "stdout"
        }
      ]
    },
    {
      "cell_type": "code",
      "metadata": {
        "id": "ckYcXPpq49Co",
        "colab_type": "code",
        "outputId": "17b636e0-95ef-492f-88b4-48f732d77d85",
        "colab": {
          "base_uri": "https://localhost:8080/",
          "height": 348
        }
      },
      "source": [
        "# Print counts of each class\n",
        "count_classes = pd.value_counts(labels)\n",
        "print(\"Ham:\", count_classes['ham'])\n",
        "print(\"Spam:\", count_classes['spam'])\n",
        "\n",
        "# Graph counts of each class\n",
        "count_classes.plot(kind=\"bar\", fontsize=16)\n",
        "plt.title(\"Class Count (training)\", fontsize=20)\n",
        "plt.xticks(rotation=\"horizontal\")\n",
        "plt.xlabel(\"Class\", fontsize=20)\n",
        "plt.ylabel(\"Class Count\", fontsize=20)\n",
        "plt.show()"
      ],
      "execution_count": 0,
      "outputs": [
        {
          "output_type": "stream",
          "text": [
            "Ham: 2359\n",
            "Spam: 1102\n"
          ],
          "name": "stdout"
        },
        {
          "output_type": "display_data",
          "data": {
            "image/png": "[encoded data removed]",
            "text/plain": [
              "<Figure size 432x288 with 1 Axes>"
            ]
          },
          "metadata": {
            "tags": []
          }
        }
      ]
    },
    {
      "cell_type": "markdown",
      "metadata": {
        "id": "XLErmbFUo7Ho",
        "colab_type": "text"
      },
      "source": [
        "## Task 2a (optional) - View training data\n",
        "1. Show the full text body of a random email in *corpus*\n",
        "2. Show the *tokenized* result of the same email"
      ]
    },
    {
      "cell_type": "code",
      "metadata": {
        "id": "Mk4n6DvQMowG",
        "colab_type": "code",
        "outputId": "03c6902d-5598-48a9-9dd9-ddd4ad6cd2f4",
        "colab": {
          "base_uri": "https://localhost:8080/",
          "height": 819
        }
      },
      "source": [
        "# Let's see how our corpus looks\n",
        "emailID = 5\n",
        "\n",
        "email = corpus[emailID]\n",
        "print(\"\\n- Email ({}) Body -\\n\".format(emailID))\n",
        "print(email)\n",
        "print(\"\\n- Tokenized Output -\\n\")\n",
        "print(tokenizer(email))"
      ],
      "execution_count": 0,
      "outputs": [
        {
          "output_type": "stream",
          "text": [
            "\n",
            "- Email (5) Body -\n",
            "\n",
            "Re: [SAtalk] Re: SA In The NewsSo do you know my public key?  Does the guy who wants to buy \n",
            "10,000 licenses of SpamAssassin Pro?  Do I really want to lose \n",
            "email from either of you?\n",
            "\n",
            "C\n",
            "\n",
            "On Thursday, August 22, 2002, at 10:13  AM, Tony L. Svanstrom wrote:\n",
            "\n",
            "> On Thu, 22 Aug 2002 the voices made Craig R.Hughes write:\n",
            ">\n",
            ">> Trouble is, you don't necessarily know ahead of time who's \n",
            ">> wanting to send\n",
            ">> you stuff.  I don't have your PGP public key on my keychain.  \n",
            ">> You can do all\n",
            ">> the signing you want, it's not going to help.  However, if you \n",
            ">> stick a Habeas\n",
            ">> header in your mail, I can (hopefully) be reasonably sure that \n",
            ">> you're not\n",
            ">> trying to spam me.  It is going to be all about enforcement \n",
            ">> though; we'll\n",
            ">> have to see how they do on enforcement.\n",
            ">\n",
            ">  Signing messages to someone ('s public key) isn't impossible, \n",
            "> using some\n",
            "> creative scripting you could even do it with OpenPGP-compatible \n",
            "> software...\n",
            "\n",
            "\n",
            "\n",
            "-------------------------------------------------------\n",
            "This sf.net email is sponsored by: OSDN - Tired of that same old\n",
            "cell phone?  Get a new here for FREE!\n",
            "https://www.inphonic.com/r.asp?r=sourceforge1&refcode1;=vs3390\n",
            "_______________________________________________\n",
            "Spamassassin-talk mailing list\n",
            "Spamassassin-talk@lists.sourceforge.net\n",
            "https://lists.sourceforge.net/lists/listinfo/spamassassin-talk\n",
            "\n",
            "\n",
            "\n",
            "- Tokenized Output -\n",
            "\n",
            "['satalk', 'sa', 'newsso', 'know', 'public', 'key', 'doe', 'guy', 'want', 'buy', '10,000', 'licens', 'spamassassin', 'pro', 'realli', 'want', 'lose', 'email', 'either', 'c', 'thursday', 'august', '22', '2002', '10:13', 'toni', 'l', 'svanstrom', 'wrote', 'thu', '22', 'aug', '2002', 'voic', 'made', 'craig', 'r.hugh', 'write', 'troubl', \"n't\", 'necessarili', 'know', 'ahead', 'time', 'want', 'send', 'stuff', \"n't\", 'pgp', 'public', 'key', 'keychain', 'sign', 'want', 'go', 'help', 'howev', 'stick', 'habea', 'header', 'mail', 'hope', 'reason', 'sure', 'tri', 'spam', 'go', 'enforc', 'though', \"we'll\", 'see', 'enforc', 'sign', 'messag', 'someon', 'public', 'key', \"n't\", 'imposs', 'use', 'creativ', 'script', 'could', 'even', 'openpgp-compat', 'softwar', 'thi', 'sf.net', 'email', 'sponsor', 'osdn', 'tire', 'old', 'cell', 'phone', 'get', 'new', 'free', 'http', 'www.inphonic.com/r.asp', 'r=sourceforge1', 'refcode1', 'vs3390', 'spamassassin-talk', 'mail', 'list', 'spamassassin-talk', 'lists.sourceforge.net', 'http', 'lists.sourceforge.net/lists/listinfo/spamassassin-talk']\n"
          ],
          "name": "stdout"
        }
      ]
    },
    {
      "cell_type": "markdown",
      "metadata": {
        "id": "q4PmEWehhCDo",
        "colab_type": "text"
      },
      "source": [
        "# Vectorize the Data\n",
        "Now that the training data has been loaded, we'll train the vectorizers to turn our features into numbers.\n",
        "\n",
        "\n"
      ]
    },
    {
      "cell_type": "markdown",
      "metadata": {
        "id": "nuZgNrloo_fO",
        "colab_type": "text"
      },
      "source": [
        "## Task 3 - Train the vectorizers\n",
        "1. Create the count vectorizer **cVec** using the **CountVectorizer** function\n",
        "2. Configure *cVec* to use the *tokenizer* function from earlier\n",
        "3. Perform **fit_transform** on *cVec* to train the vectorizer with the *corpus*\\\n",
        "a. Save the result as **count_X**\n",
        "\n",
        "\n",
        "4. Create the TF-IDF vectorizer **tVec** using the **TfidfVectorizer** function\n",
        "5. Configure *tVec* to use the *tokenizer* function from earlier\n",
        "6. Perform **fit_transform** on *tVec* to train the vectorizer with the *corpus*\\\n",
        "a. Save the result as **tfidf_X** "
      ]
    },
    {
      "cell_type": "code",
      "metadata": {
        "id": "j7U5uXWGduem",
        "colab_type": "code",
        "outputId": "54afd95b-4261-446b-a52d-c3f41e163aa4",
        "colab": {
          "base_uri": "https://localhost:8080/",
          "height": 102
        }
      },
      "source": [
        "# Vectorize the training inputs -- Takes about 90 seconds to complete\n",
        "#   There are two types of vectors: \n",
        "#     1. Count vectorizer\n",
        "#     2. Term Frequency-Inverse Document Frequency (TF-IDF)\n",
        "\n",
        "\n",
        "print(\"- Training Count Vectorizer -\")\n",
        "cVec = CountVectorizer(tokenizer=tokenizer)\n",
        "count_X = cVec.fit_transform(corpus)\n",
        "\n",
        "print(\"- Training TF-IDF Vectorizer -\")\n",
        "tVec = TfidfVectorizer(tokenizer=tokenizer)\n",
        "tfidf_X = tVec.fit_transform(corpus)\n",
        "\n",
        "\n",
        "\n",
        "print(\"\\n### Vectorizing Complete ###\\n\")"
      ],
      "execution_count": 0,
      "outputs": [
        {
          "output_type": "stream",
          "text": [
            "- Training Count Vectorizer -\n",
            "- Training TF-IDF Vectorizer -\n",
            "\n",
            "### Vectorizing Complete ###\n",
            "\n"
          ],
          "name": "stdout"
        }
      ]
    },
    {
      "cell_type": "markdown",
      "metadata": {
        "id": "9jQBLgmRpC8U",
        "colab_type": "text"
      },
      "source": [
        "## Task 3a (optional) - Count the test email tokens\n",
        "1. Print the count of each *token* from **test_email**"
      ]
    },
    {
      "cell_type": "code",
      "metadata": {
        "id": "az8e0qbLupMQ",
        "colab_type": "code",
        "outputId": "eae2e3fb-51b5-4429-a55f-b861cc7bf7cf",
        "colab": {
          "base_uri": "https://localhost:8080/",
          "height": 323
        }
      },
      "source": [
        "# Manually perform term count on test_email\n",
        "for i in list(dict.fromkeys(tokenized_email)):\n",
        "  print(\"{} - {}\".format(tokenized_email.count(i), i))\n"
      ],
      "execution_count": 0,
      "outputs": [
        {
          "output_type": "stream",
          "text": [
            "1 - east\n",
            "1 - asian\n",
            "1 - font\n",
            "1 - lenni\n",
            "1 - thank\n",
            "1 - support\n",
            "1 - instal\n",
            "1 - unifont\n",
            "1 - well\n",
            "1 - nima\n",
            "2 - unsubscrib\n",
            "1 - email\n",
            "1 - debian-user-request\n",
            "2 - lists.debian.org\n",
            "1 - subject\n",
            "1 - troubl\n",
            "1 - contact\n",
            "1 - listmast\n"
          ],
          "name": "stdout"
        }
      ]
    },
    {
      "cell_type": "markdown",
      "metadata": {
        "id": "ZvVbfkz_pEzR",
        "colab_type": "text"
      },
      "source": [
        "## Task 3b (optional) - View the test email vectorizers\n",
        "1. Create a new **CountVectorizer** and **TfidfVectorizer** for demonstration\n",
        "2. Train the new vectorizers on **test_email** using **fit_transform**\n",
        "3. Print the results of each *transform*"
      ]
    },
    {
      "cell_type": "code",
      "metadata": {
        "id": "J0Zk9sYugzDy",
        "colab_type": "code",
        "outputId": "b37c60af-dd68-4969-c6cc-0783eccf8c81",
        "colab": {
          "base_uri": "https://localhost:8080/",
          "height": 782
        }
      },
      "source": [
        "example_cVec = CountVectorizer(tokenizer=tokenizer)\n",
        "example_X = example_cVec.fit_transform([test_email])\n",
        "\n",
        "print(\"\\n- Count Vectorizer (test_email) -\\n\")\n",
        "print(example_X)\n",
        "\n",
        "print()\n",
        "print(\"=\"* 50)\n",
        "print()\n",
        "\n",
        "example_tVec = TfidfVectorizer(tokenizer=tokenizer)\n",
        "example_X = example_tVec.fit_transform([test_email])\n",
        "\n",
        "print(\"\\n- TFidf Vectorizer (test_email) -\\n\")\n",
        "print(example_X)"
      ],
      "execution_count": 0,
      "outputs": [
        {
          "output_type": "stream",
          "text": [
            "\n",
            "- Count Vectorizer (test_email) -\n",
            "\n",
            "  (0, 3)\t1\n",
            "  (0, 0)\t1\n",
            "  (0, 5)\t1\n",
            "  (0, 7)\t1\n",
            "  (0, 13)\t1\n",
            "  (0, 12)\t1\n",
            "  (0, 6)\t1\n",
            "  (0, 15)\t1\n",
            "  (0, 17)\t1\n",
            "  (0, 10)\t1\n",
            "  (0, 16)\t2\n",
            "  (0, 4)\t1\n",
            "  (0, 2)\t1\n",
            "  (0, 9)\t2\n",
            "  (0, 11)\t1\n",
            "  (0, 14)\t1\n",
            "  (0, 1)\t1\n",
            "  (0, 8)\t1\n",
            "\n",
            "==================================================\n",
            "\n",
            "\n",
            "- TFidf Vectorizer (test_email) -\n",
            "\n",
            "  (0, 8)\t0.20412414523193154\n",
            "  (0, 1)\t0.20412414523193154\n",
            "  (0, 14)\t0.20412414523193154\n",
            "  (0, 11)\t0.20412414523193154\n",
            "  (0, 9)\t0.4082482904638631\n",
            "  (0, 2)\t0.20412414523193154\n",
            "  (0, 4)\t0.20412414523193154\n",
            "  (0, 16)\t0.4082482904638631\n",
            "  (0, 10)\t0.20412414523193154\n",
            "  (0, 17)\t0.20412414523193154\n",
            "  (0, 15)\t0.20412414523193154\n",
            "  (0, 6)\t0.20412414523193154\n",
            "  (0, 12)\t0.20412414523193154\n",
            "  (0, 13)\t0.20412414523193154\n",
            "  (0, 7)\t0.20412414523193154\n",
            "  (0, 5)\t0.20412414523193154\n",
            "  (0, 0)\t0.20412414523193154\n",
            "  (0, 3)\t0.20412414523193154\n"
          ],
          "name": "stdout"
        }
      ]
    },
    {
      "cell_type": "markdown",
      "metadata": {
        "id": "TeE--QtjjhIV",
        "colab_type": "text"
      },
      "source": [
        "# Load Testing Data\n",
        "With our vectorizers trained, we're going to use them to calculate the probabilities on our testing data."
      ]
    },
    {
      "cell_type": "code",
      "metadata": {
        "id": "QCkWLePj0W-b",
        "colab_type": "code",
        "outputId": "df6fd15b-c671-431d-de11-a081e6852dc0",
        "colab": {
          "base_uri": "https://localhost:8080/",
          "height": 187
        }
      },
      "source": [
        "# List first 10 files in \"test\" directory\n",
        "#   The labels for each email are in the file name\n",
        "os.listdir(data_dir + '/test')[:10]"
      ],
      "execution_count": 0,
      "outputs": [
        {
          "output_type": "execute_result",
          "data": {
            "text/plain": [
              "['TRAIN_00872.eml.txt.ham',\n",
              " 'TRAIN_00548.eml.txt.ham',\n",
              " 'TRAIN_00356.eml.txt.spam',\n",
              " 'TRAIN_00190.eml.txt.spam',\n",
              " 'TRAIN_00756.eml.txt.ham',\n",
              " 'TRAIN_00788.eml.txt.ham',\n",
              " 'TRAIN_00542.eml.txt.ham',\n",
              " 'TRAIN_00274.eml.txt.ham',\n",
              " 'TRAIN_00681.eml.txt.ham',\n",
              " 'TRAIN_00192.eml.txt.ham']"
            ]
          },
          "metadata": {
            "tags": []
          },
          "execution_count": 36
        }
      ]
    },
    {
      "cell_type": "markdown",
      "metadata": {
        "id": "rs1JQc4EpHtx",
        "colab_type": "text"
      },
      "source": [
        "## Task 4 - Load the testing data\n",
        "1. Create two *list()* arrays: **test_corpus** and **test_labels**\n",
        "2. Load the email bodies from from the **/test** directory into the *test_corpus* array\n",
        "3. Load the labels for each email into the *test_labels* array\n",
        "\n",
        "\\* The lengths of *test_corpus* and *test_labels* should be identical"
      ]
    },
    {
      "cell_type": "code",
      "metadata": {
        "id": "sOZUSpyDzFq6",
        "colab_type": "code",
        "outputId": "19eb54f0-c8de-4d72-a805-4683ca8ef796",
        "colab": {
          "base_uri": "https://localhost:8080/",
          "height": 85
        }
      },
      "source": [
        "# Load the testing data\n",
        "#   \"test_corpus\" is used to store all of the email bodies in a list\n",
        "#   \"test_labels\" is used to store all of the labes for those email bodies\n",
        "\n",
        "test_corpus = []   # X values\n",
        "test_labels = []   # Y values\n",
        "\n",
        "# Load all of the emails from the \"test\" directory\n",
        "print(\"- Loading Test Set -\")\n",
        "for filename in os.listdir(data_dir + '/test'):\n",
        "  with open(data_dir + '/test/' + filename, 'r') as f:\n",
        "    test_corpus.append(f.read())\n",
        "    label = re.split(\"txt\\.\", filename)[1]\n",
        "    test_labels.append(label)\n",
        "    \n",
        "print(\"\\n### Loading Complete ###\\n\")"
      ],
      "execution_count": 0,
      "outputs": [
        {
          "output_type": "stream",
          "text": [
            "- Loading Test Set -\n",
            "\n",
            "### Loading Complete ###\n",
            "\n"
          ],
          "name": "stdout"
        }
      ]
    },
    {
      "cell_type": "code",
      "metadata": {
        "id": "C3VqmIM81nGf",
        "colab_type": "code",
        "outputId": "38d92376-e8ea-4a36-ce14-aa4160f54ca7",
        "colab": {
          "base_uri": "https://localhost:8080/",
          "height": 348
        }
      },
      "source": [
        "# Print counts of each class\n",
        "count_test_classes = pd.value_counts(test_labels)\n",
        "print(\"Ham:\", count_test_classes['ham'])\n",
        "print(\"Spam:\", count_test_classes['spam'])\n",
        "\n",
        "# Graph counts of each class\n",
        "count_test_classes.plot(kind=\"bar\", fontsize=16)\n",
        "plt.title(\"Class Count (Testing)\", fontsize=20)\n",
        "plt.xticks(rotation=\"horizontal\")\n",
        "plt.xlabel(\"Class\", fontsize=20)\n",
        "plt.ylabel(\"Class Count\", fontsize=20)\n",
        "plt.show()"
      ],
      "execution_count": 0,
      "outputs": [
        {
          "output_type": "stream",
          "text": [
            "Ham: 590\n",
            "Spam: 276\n"
          ],
          "name": "stdout"
        },
        {
          "output_type": "display_data",
          "data": {
            "image/png": "[encoded data removed]",
            "text/plain": [
              "<Figure size 432x288 with 1 Axes>"
            ]
          },
          "metadata": {
            "tags": []
          }
        }
      ]
    },
    {
      "cell_type": "markdown",
      "metadata": {
        "id": "DWuPQzK1pJ9j",
        "colab_type": "text"
      },
      "source": [
        "## Task 5 - Vectorize the testing data\n",
        "1. Use **cVec** to *transform* **test_corpus**\\\n",
        "a. Save the result as **test_count_X**\n",
        "\n",
        "2. Use **tVec** to *transform* **test_corpus**\\\n",
        "a. Save the result as **test_tfidf_X**"
      ]
    },
    {
      "cell_type": "code",
      "metadata": {
        "id": "PoDt2Qzx2_qZ",
        "colab_type": "code",
        "outputId": "69a43606-4856-4cf7-db35-8ee4862fa4cf",
        "colab": {
          "base_uri": "https://localhost:8080/",
          "height": 102
        }
      },
      "source": [
        "# Vectorize the testing inputs -- Takes about 30 seconds to complete\n",
        "#   Use 'transform' instead of 'fit_transform' because we've already trained our vectorizer\n",
        "\n",
        "print(\"- Count Vectorizer -\")\n",
        "test_count_X = cVec.transform(test_corpus)\n",
        "\n",
        "print(\"- Tfidf Vectorizer -\")\n",
        "test_tfidf_X = tVec.transform(test_corpus)\n",
        "\n",
        "\n",
        "\n",
        "print(\"\\n### Vectorizing Complete ###\\n\")"
      ],
      "execution_count": 0,
      "outputs": [
        {
          "output_type": "stream",
          "text": [
            "- Count Vectorizer -\n",
            "- Tfidf Vectorizer -\n",
            "\n",
            "### Vectorizing Complete ###\n",
            "\n"
          ],
          "name": "stdout"
        }
      ]
    },
    {
      "cell_type": "markdown",
      "metadata": {
        "id": "UyiNCVFlloOL",
        "colab_type": "text"
      },
      "source": [
        "# Test and Evaluate the Models\n",
        "OK, we have our training data loaded and our testing data loaded. Now it's time to train and evaluate our models. \n",
        "\n",
        "But first, we're going to define a helper function to display our evaluation reports."
      ]
    },
    {
      "cell_type": "code",
      "metadata": {
        "id": "qD3LWdNbYvqZ",
        "colab_type": "code",
        "outputId": "fc6d213a-55f7-497d-f357-b38b06b6e4e2",
        "colab": {
          "base_uri": "https://localhost:8080/",
          "height": 68
        }
      },
      "source": [
        "# Define report generator\n",
        "\n",
        "def generate_report(cmatrix, score, creport):\n",
        "  \"\"\"Generates and displays graphical reports\n",
        "  Keyword arguments:\n",
        "    cmatrix - Confusion matrix generated by the model\n",
        "    score --- Score generated by the model\n",
        "    creport - Classification Report generated by the model\n",
        "    \n",
        "  :Returns -- N/A\n",
        "  \"\"\"\n",
        "  \n",
        "  # Generate confusion matrix heatmap\n",
        "  plt.figure(figsize=(5,5))\n",
        "  sns.heatmap(cmatrix, \n",
        "              annot=True, \n",
        "              fmt=\"d\", \n",
        "              linewidths=.5, \n",
        "              square = True, \n",
        "              cmap = 'Blues', \n",
        "              annot_kws={\"size\": 16}, \n",
        "              xticklabels=['ham', 'spam'], \n",
        "              yticklabels=['ham', 'spam'])\n",
        "\n",
        "  plt.xticks(rotation='horizontal', fontsize=16)\n",
        "  plt.yticks(rotation='horizontal', fontsize=16)\n",
        "  plt.xlabel('Actual Label', size=20);\n",
        "  plt.ylabel('Predicted Label', size=20);\n",
        "\n",
        "  title = 'Accuracy Score: {0:.4f}'.format(score)\n",
        "  plt.title(title, size = 20);\n",
        "\n",
        "  # Display classification report and confusion matrix\n",
        "  print(creport)\n",
        "  plt.show()\n",
        "  \n",
        "\n",
        "print(\"\\n### Report Generator Defined ###\\n\")"
      ],
      "execution_count": 0,
      "outputs": [
        {
          "output_type": "stream",
          "text": [
            "\n",
            "### Report Generator Defined ###\n",
            "\n"
          ],
          "name": "stdout"
        }
      ]
    },
    {
      "cell_type": "markdown",
      "metadata": {
        "id": "ThtKcNrGpMhk",
        "colab_type": "text"
      },
      "source": [
        "## Task 6a - Train and evaluate the MNB-TFIDF model\n",
        "1. Create **mnb_tfidf** as a **MultinomialNB()** constructor\n",
        "2. Use **fit** to train *mnb_tfidf* on the training data (*tfidf_X*) and training labels (*labels*)\n",
        "3. Evaluate the model with the testing data (*test_tfidf_X*) and testing labels (*test_labels*):\\\n",
        "a. Use the **score** function in *mnb_tfidf* to calculate model accuracy; save the results as **score_mnb_tfidf**\\\n",
        "b. Use the **predict** function in *mnb_tfidf* to generate model predictions; save the results as **predictions_mnb_tfidf**\\\n",
        "c. Generate the confusion matrix with **confusion_matrix**, using the predictons and labels; save the results as **cmatrix_mnb_tfidf**\\\n",
        "d. Generate the classification report with **classification_report**, using the predictions and labels; save the results as **creport_mnb_tfidf**"
      ]
    },
    {
      "cell_type": "code",
      "metadata": {
        "id": "X62-VpY3MrUw",
        "colab_type": "code",
        "outputId": "d5fd91fa-43ba-473f-b61a-7662a60a5955",
        "colab": {
          "base_uri": "https://localhost:8080/",
          "height": 531
        }
      },
      "source": [
        "# Multinomial Naive Bayesian with TF-IDF\n",
        "\n",
        "# Train the model\n",
        "mnb_tfidf = MultinomialNB()\n",
        "mnb_tfidf.fit(tfidf_X, labels)\n",
        "\n",
        "\n",
        "# Test the mode (score, predictions, confusion matrix, classification report)\n",
        "score_mnb_tfidf = mnb_tfidf.score(test_tfidf_X, test_labels)\n",
        "predictions_mnb_tfidf = mnb_tfidf.predict(test_tfidf_X)\n",
        "cmatrix_mnb_tfidf = confusion_matrix(predictions_mnb_tfidf, test_labels)\n",
        "creport_mnb_tfidf = classification_report(predictions_mnb_tfidf, test_labels)\n",
        "\n",
        "print(\"\\n### Model Built ###\\n\")\n",
        "generate_report(cmatrix_mnb_tfidf, score_mnb_tfidf, creport_mnb_tfidf)"
      ],
      "execution_count": 0,
      "outputs": [
        {
          "output_type": "stream",
          "text": [
            "\n",
            "### Model Built ###\n",
            "\n",
            "              precision    recall  f1-score   support\n",
            "\n",
            "         ham       1.00      0.85      0.92       698\n",
            "        spam       0.61      1.00      0.76       168\n",
            "\n",
            "    accuracy                           0.88       866\n",
            "   macro avg       0.80      0.92      0.84       866\n",
            "weighted avg       0.92      0.88      0.89       866\n",
            "\n"
          ],
          "name": "stdout"
        },
        {
          "output_type": "display_data",
          "data": {
            "image/png": "[encoded data removed]",
            "text/plain": [
              "<Figure size 360x360 with 2 Axes>"
            ]
          },
          "metadata": {
            "tags": []
          }
        }
      ]
    },
    {
      "cell_type": "markdown",
      "metadata": {
        "id": "xPsNl19upOyB",
        "colab_type": "text"
      },
      "source": [
        "## Task 6b - Train and evaluate the MNB-Count model\n",
        "1. Create **mnb_count** as a **MultinomialNB()** constructor\n",
        "2. Use **fit** to train *mnb_count* on the training data (*count_X*) and training labels (*labels*)\n",
        "3. Evaluate the model with the testing data (*test_count_X*) and testing labels (*test_labels*):\\\n",
        "a. Use the **score** function in *mnb_count* to calculate model accuracy; save the results as **score_mnb_count**\\\n",
        "b. Use the **predict** function in *mnb_count* to generate model predictions; save the results as **predictions_mnb_count**\\\n",
        "c. Generate the confusion matrix with **confusion_matrix**, using the predictons and labels; save the results as **cmatrix_mnb_count**\\\n",
        "d. Generate the classification report with **classification_report**, using the predictions and labels; save the results as **creport_mnb_count**"
      ]
    },
    {
      "cell_type": "code",
      "metadata": {
        "id": "3rzTGHNfMsBp",
        "colab_type": "code",
        "outputId": "578a77a4-c0c3-43b1-fe46-e0a04d8c4064",
        "colab": {
          "base_uri": "https://localhost:8080/",
          "height": 531
        }
      },
      "source": [
        "# Multinomial Naive Bayesian with Count Vectorizer\n",
        "\n",
        "# Train the model\n",
        "mnb_count = MultinomialNB()\n",
        "mnb_count.fit(count_X, labels)\n",
        "\n",
        "\n",
        "# Test the mode (score, predictions, confusion matrix, classification report)\n",
        "score_mnb_count = mnb_count.score(test_count_X, test_labels)\n",
        "predictions_mnb_count = mnb_count.predict(test_count_X)\n",
        "cmatrix_mnb_count = confusion_matrix(predictions_mnb_count, test_labels)\n",
        "creport_mnb_count = classification_report(predictions_mnb_count, test_labels)\n",
        "\n",
        "print(\"\\n### Model Built ###\\n\")\n",
        "generate_report(cmatrix_mnb_count, score_mnb_count, creport_mnb_count)"
      ],
      "execution_count": 0,
      "outputs": [
        {
          "output_type": "stream",
          "text": [
            "\n",
            "### Model Built ###\n",
            "\n",
            "              precision    recall  f1-score   support\n",
            "\n",
            "         ham       0.96      0.96      0.96       587\n",
            "        spam       0.92      0.91      0.91       279\n",
            "\n",
            "    accuracy                           0.94       866\n",
            "   macro avg       0.94      0.93      0.94       866\n",
            "weighted avg       0.94      0.94      0.94       866\n",
            "\n"
          ],
          "name": "stdout"
        },
        {
          "output_type": "display_data",
          "data": {
            "image/png": "[encoded data removed]",
            "text/plain": [
              "<Figure size 360x360 with 2 Axes>"
            ]
          },
          "metadata": {
            "tags": []
          }
        }
      ]
    },
    {
      "cell_type": "markdown",
      "metadata": {
        "id": "teRzp5LDpR1H",
        "colab_type": "text"
      },
      "source": [
        "## Task 6c - Train and evaluate the LGS-TFIDF model\n",
        "1. Create **lgs_tfidf** as a **LogisticRegression()** constructor, using the **lbfgs** *solver*\n",
        "2. Use **fit** to train *lgs_tfidf* on the training data (*tfidf_X*) and training labels (*labels*)\n",
        "3. Evaluate the model with the testing data (*test_tfidf_X*) and testing labels (*test_labels*):\\\n",
        "a. Use the **score** function in *lgs_tfidf* to calculate model accuracy; save the results as **score_lgs_tfidf**\\\n",
        "b. Use the **predict** function in *lgs_tfidf* to generate model predictions; save the results as **predictions_lgs_tfidf**\\\n",
        "c. Generate the confusion matrix with **confusion_matrix**, using the predictons and labels; save the results as **cmatrix_lgs_tfidf**\\\n",
        "d. Generate the classification report with **classification_report**, using the predictions and labels; save the results as **creport_lgs_tfidf**"
      ]
    },
    {
      "cell_type": "code",
      "metadata": {
        "id": "Yoc2efFxMsw0",
        "colab_type": "code",
        "outputId": "695c6b3e-8c71-48d9-894b-cf0dbbd73e05",
        "colab": {
          "base_uri": "https://localhost:8080/",
          "height": 531
        }
      },
      "source": [
        "# Logistic Regression with TF-IDF\n",
        "\n",
        "# Train the model\n",
        "lgs_tfidf = LogisticRegression(solver='lbfgs')\n",
        "lgs_tfidf.fit(tfidf_X, labels)\n",
        "\n",
        "\n",
        "# Test the mode (score, predictions, confusion matrix, classification report)\n",
        "score_lgs_tfidf = lgs_tfidf.score(test_tfidf_X, test_labels)\n",
        "predictions_lgs_tfidf = lgs_tfidf.predict(test_tfidf_X)\n",
        "cmatrix_lgs_tfidf = confusion_matrix(predictions_lgs_tfidf, test_labels)\n",
        "creport_lgs_tfidf = classification_report(predictions_lgs_tfidf, test_labels)\n",
        "\n",
        "print(\"\\n### Model Built ###\\n\")\n",
        "generate_report(cmatrix_lgs_tfidf, score_lgs_tfidf, creport_lgs_tfidf)"
      ],
      "execution_count": 0,
      "outputs": [
        {
          "output_type": "stream",
          "text": [
            "\n",
            "### Model Built ###\n",
            "\n",
            "              precision    recall  f1-score   support\n",
            "\n",
            "         ham       0.99      0.95      0.97       619\n",
            "        spam       0.88      0.99      0.93       247\n",
            "\n",
            "    accuracy                           0.96       866\n",
            "   macro avg       0.94      0.97      0.95       866\n",
            "weighted avg       0.96      0.96      0.96       866\n",
            "\n"
          ],
          "name": "stdout"
        },
        {
          "output_type": "display_data",
          "data": {
            "image/png": "[encoded data removed]",
            "text/plain": [
              "<Figure size 360x360 with 2 Axes>"
            ]
          },
          "metadata": {
            "tags": []
          }
        }
      ]
    },
    {
      "cell_type": "markdown",
      "metadata": {
        "id": "ytP1MukVpTs3",
        "colab_type": "text"
      },
      "source": [
        "## Task 6d - Train and evaluate the LGS-Count model\n",
        "1. Create **lgs_count** as a **LogisticRegression()** constructor, using the **lbfgs** *solver*\n",
        "2. Use **fit** to train *lgs_count* on the training data (*count_X*) and training labels (*labels*)\n",
        "3. Evaluate the model with the testing data (*test_count_X*) and testing labels (*test_labels*):\\\n",
        "a. Use the **score** function in *lgs_count* to calculate model accuracy; save the results as **score_lgs_count**\\\n",
        "b. Use the **predict** function in *lgs_count* to generate model predictions; save the results as **predictions_lgs_count**\\\n",
        "c. Generate the confusion matrix with **confusion_matrix**, using the predictons and labels; save the results as **cmatrix_lgs_count**\\\n",
        "d. Generate the classification report with **classification_report**, using the predictions and labels; save the results as **creport_lgs_count**"
      ]
    },
    {
      "cell_type": "code",
      "metadata": {
        "id": "v5vj_np2Mtb4",
        "colab_type": "code",
        "outputId": "3bfe3e50-610e-40ee-b640-a9301e2e303f",
        "colab": {
          "base_uri": "https://localhost:8080/",
          "height": 531
        }
      },
      "source": [
        "# Logistic Regression with Count Vectorizer\n",
        "\n",
        "# Train the model\n",
        "lgs_count = LogisticRegression(solver='lbfgs')\n",
        "lgs_count.fit(count_X, labels)\n",
        "\n",
        "\n",
        "# Test the mode (score, predictions, confusion matrix, classification report)\n",
        "score_lgs_count = lgs_count.score(test_count_X, test_labels)\n",
        "predictions_lgs_count = lgs_count.predict(test_count_X)\n",
        "cmatrix_lgs_count = confusion_matrix(predictions_lgs_count, test_labels)\n",
        "creport_lgs_count = classification_report(predictions_lgs_count, test_labels)\n",
        "\n",
        "print(\"\\n### Model Built ###\\n\")\n",
        "generate_report(cmatrix_lgs_count, score_lgs_count, creport_lgs_count)"
      ],
      "execution_count": 0,
      "outputs": [
        {
          "output_type": "stream",
          "text": [
            "\n",
            "### Model Built ###\n",
            "\n",
            "              precision    recall  f1-score   support\n",
            "\n",
            "         ham       0.99      0.98      0.98       594\n",
            "        spam       0.96      0.97      0.96       272\n",
            "\n",
            "    accuracy                           0.98       866\n",
            "   macro avg       0.97      0.98      0.97       866\n",
            "weighted avg       0.98      0.98      0.98       866\n",
            "\n"
          ],
          "name": "stdout"
        },
        {
          "output_type": "display_data",
          "data": {
            "image/png": "[encoded data removed]",
            "text/plain": [
              "<Figure size 360x360 with 2 Axes>"
            ]
          },
          "metadata": {
            "tags": []
          }
        }
      ]
    },
    {
      "cell_type": "code",
      "metadata": {
        "id": "NS37VaM0oEDJ",
        "colab_type": "code",
        "outputId": "8c41a81f-9100-4774-fd3b-9f7852f3d114",
        "colab": {
          "base_uri": "https://localhost:8080/",
          "height": 292
        }
      },
      "source": [
        "# Spam email retrieved from my inbox (5/20/2019)\n",
        "\n",
        "test_spam_email = \"\"\"Your latest issue is available NOW! If you do not want issue notifications, click here to unsubscribe.\n",
        "logo\n",
        "Hi GEORGE,\n",
        "\n",
        "Your latest digital issue is available NOW!\n",
        "\n",
        "Enjoy all the latest from InStyle right on your phone, computer or tablet!\n",
        "\n",
        "View your library now.\n",
        "\n",
        "READ NOW\n",
        "Your digital issue is delivered by emagazines.com. To unsubscribe, go here. Do not reply to this email. For more information, review our Privacy Policy and customer care options visit Customer Support.\n",
        "\n",
        "Copyright © 2017 - 2019 eMagazines. All Rights Reserved. 230 W Huron St., Ste 500, Chicago, IL 60654\n",
        "\"\"\"\n",
        "print(test_spam_email)"
      ],
      "execution_count": 0,
      "outputs": [
        {
          "output_type": "stream",
          "text": [
            "Your latest issue is available NOW! If you do not want issue notifications, click here to unsubscribe.\n",
            "logo\n",
            "Hi GEORGE,\n",
            "\n",
            "Your latest digital issue is available NOW!\n",
            "\n",
            "Enjoy all the latest from InStyle right on your phone, computer or tablet!\n",
            "\n",
            "View your library now.\n",
            "\n",
            "READ NOW\n",
            "Your digital issue is delivered by emagazines.com. To unsubscribe, go here. Do not reply to this email. For more information, review our Privacy Policy and customer care options visit Customer Support.\n",
            "\n",
            "Copyright © 2017 - 2019 eMagazines. All Rights Reserved. 230 W Huron St., Ste 500, Chicago, IL 60654\n",
            "\n"
          ],
          "name": "stdout"
        }
      ]
    },
    {
      "cell_type": "markdown",
      "metadata": {
        "id": "P--bMk8SpWa2",
        "colab_type": "text"
      },
      "source": [
        "## Task 7 - Make a prediction\n",
        "1. Use the *vectorizers* and *models* created to perform predictions on **test_email** and **test_spam_email**"
      ]
    },
    {
      "cell_type": "code",
      "metadata": {
        "id": "7HPn0uJEZ7_H",
        "colab_type": "code",
        "outputId": "cdb4f312-26e6-40ec-dd1c-72ed6e200b50",
        "colab": {
          "base_uri": "https://localhost:8080/",
          "height": 411
        }
      },
      "source": [
        "# Enter an email to be predicted\n",
        "\n",
        "working_email = test_spam_email\n",
        "\n",
        "\n",
        "test_email_tfidf = tVec.transform([working_email])\n",
        "test_email_count = cVec.transform([working_email])\n",
        "\n",
        "test_email_mnb_tfidf_pred = mnb_tfidf.predict(test_email_tfidf)\n",
        "test_email_mnb_count_pred = mnb_count.predict(test_email_count)\n",
        "test_email_lgs_tfidf_pred = lgs_tfidf.predict(test_email_tfidf)\n",
        "test_email_lgs_count_pred = lgs_count.predict(test_email_count)\n",
        "\n",
        "\n",
        "print(working_email)\n",
        "\n",
        "print(\"\\n- Model Predictions -\\n\")\n",
        "print(\"MNB/TFIDF:\", test_email_mnb_tfidf_pred)\n",
        "print(\"MNB/Count:\", test_email_mnb_count_pred)\n",
        "\n",
        "print(\"LGS/TFIDF:\", test_email_lgs_tfidf_pred)\n",
        "print(\"LGS/Count:\", test_email_lgs_count_pred)"
      ],
      "execution_count": 0,
      "outputs": [
        {
          "output_type": "stream",
          "text": [
            "Your latest issue is available NOW! If you do not want issue notifications, click here to unsubscribe.\n",
            "logo\n",
            "Hi GEORGE,\n",
            "\n",
            "Your latest digital issue is available NOW!\n",
            "\n",
            "Enjoy all the latest from InStyle right on your phone, computer or tablet!\n",
            "\n",
            "View your library now.\n",
            "\n",
            "READ NOW\n",
            "Your digital issue is delivered by emagazines.com. To unsubscribe, go here. Do not reply to this email. For more information, review our Privacy Policy and customer care options visit Customer Support.\n",
            "\n",
            "Copyright © 2017 - 2019 eMagazines. All Rights Reserved. 230 W Huron St., Ste 500, Chicago, IL 60654\n",
            "\n",
            "\n",
            "- Model Predictions -\n",
            "\n",
            "MNB/TFIDF: ['ham']\n",
            "MNB/Count: ['spam']\n",
            "LGS/TFIDF: ['spam']\n",
            "LGS/Count: ['spam']\n"
          ],
          "name": "stdout"
        }
      ]
    },
    {
      "cell_type": "code",
      "metadata": {
        "id": "nKwzaCYodIiu",
        "colab_type": "code",
        "colab": {}
      },
      "source": [
        ""
      ],
      "execution_count": 0,
      "outputs": []
    }
  ]
}